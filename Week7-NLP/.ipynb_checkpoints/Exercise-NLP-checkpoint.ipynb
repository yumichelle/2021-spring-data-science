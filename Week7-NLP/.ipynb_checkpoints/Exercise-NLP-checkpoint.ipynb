{
 "cells": [
  {
   "cell_type": "markdown",
   "metadata": {},
   "source": [
    "# Exercise with Natural Language Processing\n",
    "\n",
    "For todays exersice we will be doing two things.  The first is to build the same model with the same data that we did in the lecture, the second will be to build a new model with new data. \n",
    "\n",
    "## PART 1: \n",
    "- 20 Newsgroups Corpus\n",
    "\n",
    "\n",
    "## PART 2:\n",
    "- Republican vs Democrat Tweet Classifier"
   ]
  },
  {
   "cell_type": "code",
   "execution_count": 32,
   "metadata": {},
   "outputs": [
    {
     "name": "stdout",
     "output_type": "stream",
     "text": [
      "[nltk_data] Downloading package stopwords to\n",
      "[nltk_data]     /Users/michelle/nltk_data...\n",
      "[nltk_data]   Package stopwords is already up-to-date!\n",
      "[nltk_data] Downloading package punkt to /Users/michelle/nltk_data...\n",
      "[nltk_data]   Package punkt is already up-to-date!\n",
      "[nltk_data] Downloading package wordnet to\n",
      "[nltk_data]     /Users/michelle/nltk_data...\n",
      "[nltk_data]   Package wordnet is already up-to-date!\n"
     ]
    }
   ],
   "source": [
    "# Import pandas for data handling\n",
    "import pandas as pd\n",
    "\n",
    "# NLTK is our Natural-Language-Took-Kit\n",
    "import nltk\n",
    "from nltk.corpus import stopwords\n",
    "from nltk import word_tokenize\n",
    "from nltk.stem import PorterStemmer\n",
    "from nltk.stem import WordNetLemmatizer\n",
    "from nltk.corpus import wordnet\n",
    "\n",
    "# Libraries for helping us with strings\n",
    "import string\n",
    "# Regular Expression Library\n",
    "import re\n",
    "\n",
    "# Import our text vectorizers\n",
    "from sklearn.feature_extraction.text import CountVectorizer\n",
    "from sklearn.feature_extraction.text import TfidfVectorizer\n",
    "\n",
    "\n",
    "# Import our classifiers\n",
    "from sklearn.naive_bayes import MultinomialNB\n",
    "from sklearn.ensemble import RandomForestClassifier\n",
    "\n",
    "\n",
    "# Import some ML helper function\n",
    "from sklearn.model_selection import train_test_split\n",
    "from sklearn.metrics import plot_confusion_matrix\n",
    "from sklearn.metrics import classification_report\n",
    "\n",
    "\n",
    "# Import our metrics to evaluate our model\n",
    "from sklearn import metrics\n",
    "from sklearn.metrics import classification_report\n",
    "\n",
    "\n",
    "# Library for plotting\n",
    "import matplotlib.pyplot as plt\n",
    "import seaborn as sns\n",
    "\n",
    "# You may need to download these from nltk\n",
    "nltk.download('stopwords')\n",
    "nltk.download('punkt')\n",
    "nltk.download('wordnet')\n",
    "stopwords = stopwords.words('english')\n"
   ]
  },
  {
   "cell_type": "markdown",
   "metadata": {},
   "source": [
    "## Load and display data.\n",
    "1. Load the 20-newsgroups.csv data into a dataframe.\n",
    "1. Print the shape\n",
    "1. Inspect / remove nulls and duplicates\n",
    "1. Find class balances, print out how many of each topic_category there are."
   ]
  },
  {
   "cell_type": "code",
   "execution_count": 2,
   "metadata": {},
   "outputs": [
    {
     "name": "stdout",
     "output_type": "stream",
     "text": [
      "(11314, 4)\n"
     ]
    }
   ],
   "source": [
    "# 1. Load the 20-newsgroups.csv data into a dataframe.\n",
    "# 2. Print the shape\n",
    "df = pd.read_csv('data/20-newsgroups.csv')\n",
    "print(df.shape)"
   ]
  },
  {
   "cell_type": "code",
   "execution_count": 3,
   "metadata": {},
   "outputs": [
    {
     "name": "stdout",
     "output_type": "stream",
     "text": [
      "isnull--  id                0\n",
      "message           0\n",
      "topic             0\n",
      "topic_category    0\n",
      "dtype: int64\n",
      "duplicated--  0\n",
      "(11314, 4)\n",
      "(11314, 4)\n"
     ]
    }
   ],
   "source": [
    "# 3. Inspect / remove nulls and duplicates\n",
    "print('isnull-- ', df.isnull().sum())\n",
    "print('duplicated-- ', df.duplicated().sum())\n",
    "\n",
    "#drop nulls\n",
    "df = df.dropna()\n",
    "print(df.shape)\n",
    "\n",
    "#drop dupes\n",
    "df = df.drop_duplicates()\n",
    "print(df.shape)"
   ]
  },
  {
   "cell_type": "code",
   "execution_count": 4,
   "metadata": {},
   "outputs": [
    {
     "data": {
      "text/plain": [
       "rec.sport.hockey            600\n",
       "soc.religion.christian      599\n",
       "rec.motorcycles             598\n",
       "rec.sport.baseball          597\n",
       "sci.crypt                   595\n",
       "sci.med                     594\n",
       "rec.autos                   594\n",
       "sci.space                   593\n",
       "comp.windows.x              593\n",
       "sci.electronics             591\n",
       "comp.os.ms-windows.misc     591\n",
       "comp.sys.ibm.pc.hardware    590\n",
       "misc.forsale                585\n",
       "comp.graphics               584\n",
       "comp.sys.mac.hardware       578\n",
       "talk.politics.mideast       564\n",
       "talk.politics.guns          546\n",
       "alt.atheism                 480\n",
       "talk.politics.misc          465\n",
       "talk.religion.misc          377\n",
       "Name: topic_category, dtype: int64"
      ]
     },
     "execution_count": 4,
     "metadata": {},
     "output_type": "execute_result"
    }
   ],
   "source": [
    "# 4. Find class balances, print out how many of each topic_category there are.\n",
    "df.topic_category.value_counts()"
   ]
  },
  {
   "cell_type": "markdown",
   "metadata": {},
   "source": [
    "# Text Pre-Processing \n",
    "(aka Feature engineering)\n",
    "1. Make a function that makes all text lowercase.\n",
    "    * Do a sanity check by feeding in a test sentence into the function. \n",
    "    \n",
    "    \n",
    "2. Make a function that removes all punctuation. \n",
    "    * Do a sanity check by feeding in a test sentence into the function. \n",
    "    \n",
    "    \n",
    "3. Make a function that removes all stopwords.\n",
    "    * Do a sanity check by feeding in a test sentence into the function. \n",
    "    \n",
    "    \n",
    "4. EXTRA CREDIT (This step only): Make a function that stemms all words. \n",
    "\n",
    "\n",
    "5. Mandatory: Make a pipeline function that applys all the text processing functions you just built.\n",
    "    * Do a sanity check by feeding in a test sentence into the pipeline. \n",
    "    \n",
    "    \n",
    "    \n",
    "6. Mandatory: Use `df['message_clean'] = df[column].apply(???)` and apply the text pipeline to your text data column. "
   ]
  },
  {
   "cell_type": "code",
   "execution_count": 5,
   "metadata": {},
   "outputs": [
    {
     "data": {
      "text/plain": [
       "'this is a sentence with lots of caps.'"
      ]
     },
     "execution_count": 5,
     "metadata": {},
     "output_type": "execute_result"
    }
   ],
   "source": [
    "# 1. Make a function that makes all text lowercase.\n",
    "\n",
    "test_string = 'This is A SENTENCE with LOTS OF CAPS.'\n",
    "\n",
    "def make_lower(input_string):\n",
    "    return input_string.lower()\n",
    "\n",
    "make_lower(test_string)"
   ]
  },
  {
   "cell_type": "code",
   "execution_count": 6,
   "metadata": {},
   "outputs": [
    {
     "data": {
      "text/plain": [
       "'This is a sentence 50 With lots of punctuation  other things'"
      ]
     },
     "execution_count": 6,
     "metadata": {},
     "output_type": "execute_result"
    }
   ],
   "source": [
    "# 2. Make a function that removes all punctuation. \n",
    "def rem_punct(input_string):\n",
    "    return re.sub(r'[^\\w\\s]', '', input_string)\n",
    "\n",
    "test_string = 'This is a sentence! 50 With lots of punctuation??? & other #things.'\n",
    "rem_punct(test_string)"
   ]
  },
  {
   "cell_type": "code",
   "execution_count": 7,
   "metadata": {},
   "outputs": [
    {
     "name": "stdout",
     "output_type": "stream",
     "text": [
      "['i', 'me', 'my', 'myself', 'we', 'our', 'ours', 'ourselves', 'you', \"you're\", \"you've\", \"you'll\", \"you'd\", 'your', 'yours', 'yourself', 'yourselves', 'he', 'him', 'his', 'himself', 'she', \"she's\", 'her', 'hers', 'herself', 'it', \"it's\", 'its', 'itself', 'they', 'them', 'their', 'theirs', 'themselves', 'what', 'which', 'who', 'whom', 'this', 'that', \"that'll\", 'these', 'those', 'am', 'is', 'are', 'was', 'were', 'be', 'been', 'being', 'have', 'has', 'had', 'having', 'do', 'does', 'did', 'doing', 'a', 'an', 'the', 'and', 'but', 'if', 'or', 'because', 'as', 'until', 'while', 'of', 'at', 'by', 'for', 'with', 'about', 'against', 'between', 'into', 'through', 'during', 'before', 'after', 'above', 'below', 'to', 'from', 'up', 'down', 'in', 'out', 'on', 'off', 'over', 'under', 'again', 'further', 'then', 'once', 'here', 'there', 'when', 'where', 'why', 'how', 'all', 'any', 'both', 'each', 'few', 'more', 'most', 'other', 'some', 'such', 'no', 'nor', 'not', 'only', 'own', 'same', 'so', 'than', 'too', 'very', 's', 't', 'can', 'will', 'just', 'don', \"don't\", 'should', \"should've\", 'now', 'd', 'll', 'm', 'o', 're', 've', 'y', 'ain', 'aren', \"aren't\", 'couldn', \"couldn't\", 'didn', \"didn't\", 'doesn', \"doesn't\", 'hadn', \"hadn't\", 'hasn', \"hasn't\", 'haven', \"haven't\", 'isn', \"isn't\", 'ma', 'mightn', \"mightn't\", 'mustn', \"mustn't\", 'needn', \"needn't\", 'shan', \"shan't\", 'shouldn', \"shouldn't\", 'wasn', \"wasn't\", 'weren', \"weren't\", 'won', \"won't\", 'wouldn', \"wouldn't\"]\n"
     ]
    }
   ],
   "source": [
    "print(stopwords)"
   ]
  },
  {
   "cell_type": "code",
   "execution_count": 8,
   "metadata": {},
   "outputs": [
    {
     "data": {
      "text/plain": [
       "'This sentence ! With different stopwords added .'"
      ]
     },
     "execution_count": 8,
     "metadata": {},
     "output_type": "execute_result"
    }
   ],
   "source": [
    "# 3. Make a function that removes all stopwords.\n",
    "def rem_stopwords(input_string):\n",
    "    words = word_tokenize(input_string)\n",
    "    valid_words=[]\n",
    "    for word in words:\n",
    "        if word not in stopwords:\n",
    "            valid_words.append(word)\n",
    "    input_string = \" \".join(valid_words)\n",
    "    return input_string\n",
    "\n",
    "test_string = 'This is a sentence! With some different stopwords i have added in here.'\n",
    "rem_stopwords(test_string)"
   ]
  },
  {
   "cell_type": "code",
   "execution_count": 9,
   "metadata": {},
   "outputs": [
    {
     "data": {
      "text/plain": [
       "'I play and start play with player and we all love to play with play'"
      ]
     },
     "execution_count": 9,
     "metadata": {},
     "output_type": "execute_result"
    }
   ],
   "source": [
    "# 4. EXTRA CREDIT: Make a function that stemms all words. \n",
    "def stem_words(input_string):\n",
    "    porter=PorterStemmer()\n",
    "    words = word_tokenize(input_string)\n",
    "    valid_words=[]\n",
    "    for word in words:\n",
    "        stemmed_word = porter.stem(word)\n",
    "        valid_words.append(stemmed_word)\n",
    "    input_string = ' '.join(valid_words)\n",
    "    return input_string\n",
    "\n",
    "test_string = 'I played and started playing with players and we all love to play with plays'\n",
    "stem_words(test_string)"
   ]
  },
  {
   "cell_type": "code",
   "execution_count": 26,
   "metadata": {},
   "outputs": [
    {
     "name": "stdout",
     "output_type": "stream",
     "text": [
      "ORIGINAL TEXT: From: lerxst@wam.umd.edu (where's my thing)\r\n",
      "Subject: WHAT car is this!?\r\n",
      "Nntp-Posting-Host: rac3.wam.umd.edu\r\n",
      "Organization: University of Maryland, College Park\r\n",
      "Lines: 15\r\n",
      "\r\n",
      " I was wondering if anyone out there could enlighten me on this car I saw\r\n",
      "the other day. It was a 2-door sports car, looked to be from the late 60s/\r\n",
      "early 70s. It was called a Bricklin. The doors were really small. In addition,\r\n",
      "the front bumper was separate from the rest of the body. This is \r\n",
      "all I know. If anyone can tellme a model name, engine specs, years\r\n",
      "of production, where this car is made, history, or whatever info you\r\n",
      "have on this funky looking car, please e-mail.\r\n",
      "\r\n",
      "Thanks,\r\n",
      "- IL\r\n",
      "   ---- brought to you by your neighborhood Lerxst ----\r\n",
      "\r\n",
      "\r\n",
      "\r\n",
      "\r\n",
      "\n"
     ]
    }
   ],
   "source": [
    "# 5. MANDATORY: Make a pipeline function that applys all the text processing functions you just built.\n",
    "def text_pipeline(input_string):\n",
    "    input_string = make_lower(input_string)\n",
    "    input_string = rem_punct(input_string)\n",
    "    input_string = rem_stopwords(input_string)\n",
    "    return input_string\n",
    "\n",
    "test_string = 'I played and started playing with players and we all love to play with plays'\n",
    "\n",
    "print(\"ORIGINAL TEXT:\", df['message'][0])"
   ]
  },
  {
   "cell_type": "code",
   "execution_count": 27,
   "metadata": {},
   "outputs": [
    {
     "name": "stdout",
     "output_type": "stream",
     "text": [
      "CLEANED TEXT: lerxstwamumdedu wheres thing subject car nntppostinghost rac3wamumdedu organization university maryland college park lines 15 wondering anyone could enlighten car saw day 2door sports car looked late 60s early 70s called bricklin doors really small addition front bumper separate rest body know anyone tellme model name engine specs years production car made history whatever info funky looking car please email thanks il brought neighborhood lerxst\n"
     ]
    }
   ],
   "source": [
    "# 6. Mandatory: Use `df[column].apply(???)` and apply the text pipeline to your text data column. \n",
    "df['messageclean'] = df['message'].apply(text_pipeline)\n",
    "print(\"CLEANED TEXT:\", df['messageclean'][0])"
   ]
  },
  {
   "cell_type": "markdown",
   "metadata": {},
   "source": [
    "# Text Vectorization\n",
    "\n",
    "1. Define your `X` and `y` data. \n",
    "\n",
    "\n",
    "2. Initialize a vectorizer (you can use TFIDF or BOW, it is your choice).\n",
    "    * Do you want to use n-grams..?\n",
    "\n",
    "\n",
    "3. Fit your vectorizer using your X data.\n",
    "    * Remember, this process happens IN PLACE.\n",
    "\n",
    "\n",
    "4. Transform your X data using your fitted vectorizer. \n",
    "    * `X = vectorizer.???`\n",
    "\n",
    "\n",
    "\n",
    "5. Print the shape of your X.  How many features (aka columns) do you have?"
   ]
  },
  {
   "cell_type": "code",
   "execution_count": 28,
   "metadata": {},
   "outputs": [
    {
     "name": "stdout",
     "output_type": "stream",
     "text": [
      "['lerxstwamumdedu wheres thing subject car nntppostinghost rac3wamumdedu organization university maryland college park lines 15 wondering anyone could enlighten car saw day 2door sports car looked late 60s early 70s called bricklin doors really small addition front bumper separate rest body know anyone tellme model name engine specs years production car made history whatever info funky looking car please email thanks il brought neighborhood lerxst'\n",
      " 'guykuocarsonuwashingtonedu guy kuo subject si clock poll final call summary final call si clock reports keywords siaccelerationclockupgrade articleid shelley1qvfo9innc3s organization university washington lines 11 nntppostinghost carsonuwashingtonedu fair number brave souls upgraded si clock oscillator shared experiences poll please send brief message detailing experiences procedure top speed attained cpu rated speed add cards adapters heat sinks hour usage per day floppy disk functionality 800 14 floppies especially requested summarizing next two days please add network knowledge base done clock upgrade havent answered poll thanks guy kuo guykuouwashingtonedu'\n",
      " 'twillisececnpurdueedu thomas e willis subject pb questions organization purdue university engineering computer network distribution usa lines 36 well folks mac plus finally gave ghost weekend starting life 512k way back 1985 sooo im market new machine bit sooner intended im looking picking powerbook 160 maybe 180 bunch questions hopefully somebody answer anybody know dirt next round powerbook introductions expected id heard 185c supposed make appearence summer havent heard anymore since dont access macleak wondering anybody info anybody heard rumors price drops powerbook line like ones duos went recently whats impression display 180 could probably swing 180 got 80mb disk rather 120 dont really feel much better display yea looks great store wow really good could solicit opinions people use 160 180 daytoday worth taking disk size money hit get active display realize real subjective question ive played around machines computer store breifly figured opinions somebody actually uses machine daily might prove helpful well hellcats perform thanks bunch advance info could email ill post summary news reading time premium finals around corner tom willis twillisecnpurdueedu purdue electrical engineering convictions dangerous enemies truth lies f w nietzsche'\n",
      " ...\n",
      " 'westesnetcomcom estes subject mounting cpu cooler vertical case organization mail group xnewsreader tin version 11 pl8 lines 13 installed dx266 cpu clone motherboard tried mounting cpu cooler chip 12 hour weight cooler enough dislodge cpu mount ended bending pins cpu luckily power yet ended pressing cpu deeply socket putting cpu cooler back far good others problem ensure weight cpu fan heatsink eventually work cpu socket mounting motherboard vertical case estes internet westesnetcomcom'\n",
      " 'stevehcrlgw steven collins subject sphere 4 points organization central research lab hitachi ltd lines 27 nntppostinghost hcrlgw article 1qkgbuinns9nshelleyuwashingtonedu bolsoncarsonuwashingtonedu edward bolson writes boy embarassing trivial faq given 4 points non coplanar one find sphere center radius exactly fitting points know circle 3 points immediately see straightforward way 3d checked geometry books graphics gems farin still loss please mercy provide solution wouldnt require hypersphere 3space 4 points specifies sphere far see unless prove point exists 3space equidistant 4 points may necessarily happen correct im wrong quite possibly steve steven collins email stevecrlhitachicojp visiting computer graphics researcher phone 0423231111 hitachi central research lab tokyo fax 0423277742'\n",
      " 'gunningccocaltechedu kevin j gunning subject stolen cbr900rr organization california institute technology pasadena lines 12 distribution usa nntppostinghost alumnicaltechedu summary see stolen pasadena 430 630 pm 415 blue white honda cbr900rr california plate kg cbr serial number jh2sc281xpm100187 engine number 2101240 turn signals mirrors lights taped track riders session willow springs tomorrow guess ill miss help find baby kjg'] ['rec.autos' 'comp.sys.mac.hardware' 'comp.sys.mac.hardware' ...\n",
      " 'comp.sys.ibm.pc.hardware' 'comp.graphics' 'rec.motorcycles']\n"
     ]
    }
   ],
   "source": [
    "# 1. Define your `X` and `y` data. \n",
    "X = df['messageclean'].values\n",
    "y = df['topic_category'].values\n",
    "print(X, y)"
   ]
  },
  {
   "cell_type": "code",
   "execution_count": 36,
   "metadata": {},
   "outputs": [],
   "source": [
    "# 2. Initialize a vectorizer (you can use TFIDF or BOW, it is your choice).\n",
    "vectorizer = TfidfVectorizer()"
   ]
  },
  {
   "cell_type": "code",
   "execution_count": 37,
   "metadata": {},
   "outputs": [
    {
     "data": {
      "text/plain": [
       "TfidfVectorizer()"
      ]
     },
     "execution_count": 37,
     "metadata": {},
     "output_type": "execute_result"
    }
   ],
   "source": [
    "# 3. Fit your vectorizer using your X data\n",
    "vectorizer.fit(X)\n"
   ]
  },
  {
   "cell_type": "code",
   "execution_count": 39,
   "metadata": {},
   "outputs": [],
   "source": [
    "# 4. Transform your X data using your fitted vectorizer. \n",
    "X = vectorizer.transform(X)\n"
   ]
  },
  {
   "cell_type": "code",
   "execution_count": 40,
   "metadata": {},
   "outputs": [
    {
     "name": "stdout",
     "output_type": "stream",
     "text": [
      "(11314, 139767)\n"
     ]
    }
   ],
   "source": [
    "# 5. Print the shape of your X.  How many features (aka columns) do you have?\n",
    "print(X.shape)"
   ]
  },
  {
   "cell_type": "markdown",
   "metadata": {},
   "source": [
    "# Split your data into Training and Testing data. "
   ]
  },
  {
   "cell_type": "code",
   "execution_count": 41,
   "metadata": {},
   "outputs": [],
   "source": [
    "# Split our data into testing and training like always. \n",
    "X_train, X_test, y_train, y_test = train_test_split(X, y, test_size=.2, random_state=42)"
   ]
  },
  {
   "cell_type": "markdown",
   "metadata": {},
   "source": [
    "___\n",
    "# Build and Train Model\n",
    "Use Multinomial Naive Bayes to classify these documents. \n",
    "\n",
    "1. Initalize an empty model. \n",
    "2. Fit the model with our training data.\n",
    "\n",
    "\n",
    "Experiment with different alphas.  Use the alpha gives you the best result.\n",
    "\n",
    "EXTRA CREDIT:  Use grid search to programmatically do this for you. "
   ]
  },
  {
   "cell_type": "code",
   "execution_count": 44,
   "metadata": {},
   "outputs": [
    {
     "data": {
      "text/plain": [
       "MultinomialNB(alpha=0.5)"
      ]
     },
     "execution_count": 44,
     "metadata": {},
     "output_type": "execute_result"
    }
   ],
   "source": [
    "# 1. Initalize an empty model. \n",
    "model = MultinomialNB(alpha=.5)"
   ]
  },
  {
   "cell_type": "code",
   "execution_count": 45,
   "metadata": {},
   "outputs": [
    {
     "data": {
      "text/plain": [
       "MultinomialNB(alpha=0.5)"
      ]
     },
     "execution_count": 45,
     "metadata": {},
     "output_type": "execute_result"
    }
   ],
   "source": [
    "# Fit our model with our training data.\n",
    "model.fit(X_train, y_train)"
   ]
  },
  {
   "cell_type": "markdown",
   "metadata": {},
   "source": [
    "# Evaluate the model.\n",
    "\n",
    "1. Make new predicitions using our test data. \n",
    "2. Print the accuracy of the model. \n",
    "3. Print the confusion matrix of our predictions. \n",
    "4. Using `classification_report` print the evaluation results for all the classes. \n",
    "\n"
   ]
  },
  {
   "cell_type": "code",
   "execution_count": 47,
   "metadata": {},
   "outputs": [
    {
     "data": {
      "text/plain": [
       "array(['comp.sys.ibm.pc.hardware', 'comp.os.ms-windows.misc',\n",
       "       'misc.forsale', ..., 'sci.space', 'talk.politics.guns',\n",
       "       'sci.crypt'], dtype='<U24')"
      ]
     },
     "execution_count": 47,
     "metadata": {},
     "output_type": "execute_result"
    }
   ],
   "source": [
    "# 1. Make new predictions of our testing data. \n",
    "y_pred = model.predict(X_test)\n",
    "\n",
    "y_pred"
   ]
  },
  {
   "cell_type": "code",
   "execution_count": 48,
   "metadata": {},
   "outputs": [
    {
     "name": "stdout",
     "output_type": "stream",
     "text": [
      "Model Accuracy: 0.891295\n"
     ]
    }
   ],
   "source": [
    "# 2. Print the accuracy of the model. \n",
    "accuracy = model.score(X_test, y_test)\n",
    "\n",
    "print(\"Model Accuracy: %f\" % accuracy)"
   ]
  },
  {
   "cell_type": "code",
   "execution_count": 50,
   "metadata": {},
   "outputs": [
    {
     "data": {
      "text/plain": [
       "<sklearn.metrics._plot.confusion_matrix.ConfusionMatrixDisplay at 0x7ff804aa5b00>"
      ]
     },
     "execution_count": 50,
     "metadata": {},
     "output_type": "execute_result"
    },
    {
     "data": {
      "image/png": "[encoded data removed]",
      "text/plain": [
       "<Figure size 1512x1512 with 2 Axes>"
      ]
     },
     "metadata": {
      "needs_background": "light"
     },
     "output_type": "display_data"
    }
   ],
   "source": [
    "# 3. Plot the confusion matrix of our predictions\n",
    "fig, ax = plt.subplots(figsize=(21,21))\n",
    "disp = plot_confusion_matrix(model, X_test, y_test, \n",
    "                             display_labels=model.classes_, \n",
    "                             cmap=plt.cm.Blues,\n",
    "                             ax=ax\n",
    "                            )\n",
    "plt.xticks(rotation=90)\n",
    "disp"
   ]
  },
  {
   "cell_type": "code",
   "execution_count": 51,
   "metadata": {},
   "outputs": [
    {
     "name": "stdout",
     "output_type": "stream",
     "text": [
      "                          precision    recall  f1-score   support\n",
      "\n",
      "             alt.atheism       0.91      0.87      0.89        97\n",
      "           comp.graphics       0.84      0.89      0.87       104\n",
      " comp.os.ms-windows.misc       0.88      0.81      0.84       115\n",
      "comp.sys.ibm.pc.hardware       0.69      0.84      0.75       123\n",
      "   comp.sys.mac.hardware       0.97      0.86      0.91       126\n",
      "          comp.windows.x       0.89      0.93      0.91       106\n",
      "            misc.forsale       0.84      0.79      0.82       109\n",
      "               rec.autos       0.92      0.93      0.92       139\n",
      "         rec.motorcycles       0.94      0.93      0.94       122\n",
      "      rec.sport.baseball       0.97      0.97      0.97       102\n",
      "        rec.sport.hockey       0.96      0.97      0.97       108\n",
      "               sci.crypt       0.92      0.98      0.95       125\n",
      "         sci.electronics       0.91      0.84      0.88       114\n",
      "                 sci.med       0.98      0.94      0.96       119\n",
      "               sci.space       0.99      0.98      0.99       127\n",
      "  soc.religion.christian       0.71      0.95      0.81       122\n",
      "      talk.politics.guns       0.87      0.99      0.93       121\n",
      "   talk.politics.mideast       0.89      0.99      0.94       102\n",
      "      talk.politics.misc       0.97      0.78      0.86       107\n",
      "      talk.religion.misc       1.00      0.37      0.54        75\n",
      "\n",
      "                accuracy                           0.89      2263\n",
      "               macro avg       0.90      0.88      0.88      2263\n",
      "            weighted avg       0.90      0.89      0.89      2263\n",
      "\n"
     ]
    }
   ],
   "source": [
    "# 4. Using `classification_report` print the evaluation results for all the classes. \n",
    "print(classification_report(y_test, y_pred, target_names=model.classes_))\n"
   ]
  },
  {
   "cell_type": "markdown",
   "metadata": {},
   "source": [
    "# Manual predicition\n",
    "Write a new sentence that you think will be classified as talk.politics.guns. \n",
    "1. Apply the text pipeline to your sentence\n",
    "2. Transform your cleaned text using the `X = vectorizer.transform([your_text])`\n",
    "    * Note, the `transform` function accepts a list and not a individual string.\n",
    "3. Use the model to predict your new `X`. \n",
    "4. Print the prediction"
   ]
  },
  {
   "cell_type": "code",
   "execution_count": 58,
   "metadata": {},
   "outputs": [
    {
     "name": "stdout",
     "output_type": "stream",
     "text": [
      "gun politics area american politics defined two primary opposing ideologies civilian gun ownership\n",
      "alt.atheism 0.028\n",
      "comp.graphics 0.019\n",
      "comp.os.ms-windows.misc 0.017\n",
      "comp.sys.ibm.pc.hardware 0.024\n",
      "comp.sys.mac.hardware 0.017\n",
      "comp.windows.x 0.02\n",
      "misc.forsale 0.024\n",
      "rec.autos 0.029\n",
      "rec.motorcycles 0.045\n",
      "rec.sport.baseball 0.032\n",
      "rec.sport.hockey 0.026\n",
      "sci.crypt 0.049\n",
      "sci.electronics 0.026\n",
      "sci.med 0.024\n",
      "sci.space 0.053\n",
      "soc.religion.christian 0.027\n",
      "talk.politics.guns 0.25\n",
      "talk.politics.mideast 0.196\n",
      "talk.politics.misc 0.077\n",
      "talk.religion.misc 0.015\n"
     ]
    }
   ],
   "source": [
    "my_sentence = 'Gun politics is an area of American politics defined by two primary opposing ideologies about civilian gun ownership.'\n",
    "\n",
    "# 1. Apply the text pipeline to your sentence\n",
    "new_my_sentence = text_pipeline(my_sentence)\n",
    "print(new_my_sentence)\n",
    "\n",
    "# 2. Transform your cleaned text using the `X = vectorizer.transform([your_text])`\\\n",
    "X = vectorizer.transform([new_my_sentence])\n",
    "\n",
    "# 3. Use the model to predict your new `X`. \n",
    "model.predict(X)\n",
    "\n",
    "# 4. Print the prediction\n",
    "pp = model.predict_proba(X)\n",
    "for aclass,prob in zip(model.classes_, pp.round(3)[0]):\n",
    "    print(aclass, prob)"
   ]
  },
  {
   "cell_type": "markdown",
   "metadata": {},
   "source": [
    "___\n",
    "# PART 2: Twitter Data\n",
    "This part of the exercise is un-guided on purpose.  \n",
    "\n",
    "Using the `dem-vs-rep-tweets.csv` build a classifier to determine if a tweet was written by a democrat or republican. \n",
    "\n",
    "Can you get an f1-score higher than %82"
   ]
  },
  {
   "cell_type": "code",
   "execution_count": 61,
   "metadata": {},
   "outputs": [
    {
     "name": "stdout",
     "output_type": "stream",
     "text": [
      "(86460, 3)\n"
     ]
    },
    {
     "data": {
      "text/plain": [
       "<bound method NDFrame.head of             Party         Handle  \\\n",
       "0        Democrat  RepDarrenSoto   \n",
       "1        Democrat  RepDarrenSoto   \n",
       "2        Democrat  RepDarrenSoto   \n",
       "3        Democrat  RepDarrenSoto   \n",
       "4        Democrat  RepDarrenSoto   \n",
       "5        Democrat  RepDarrenSoto   \n",
       "6        Democrat  RepDarrenSoto   \n",
       "7        Democrat  RepDarrenSoto   \n",
       "8        Democrat  RepDarrenSoto   \n",
       "9        Democrat  RepDarrenSoto   \n",
       "10       Democrat  RepDarrenSoto   \n",
       "11       Democrat  RepDarrenSoto   \n",
       "12       Democrat  RepDarrenSoto   \n",
       "13       Democrat  RepDarrenSoto   \n",
       "14       Democrat  RepDarrenSoto   \n",
       "15       Democrat  RepDarrenSoto   \n",
       "16       Democrat  RepDarrenSoto   \n",
       "17       Democrat  RepDarrenSoto   \n",
       "18       Democrat  RepDarrenSoto   \n",
       "19       Democrat  RepDarrenSoto   \n",
       "20       Democrat  RepDarrenSoto   \n",
       "21       Democrat  RepDarrenSoto   \n",
       "22       Democrat  RepDarrenSoto   \n",
       "23       Democrat  RepDarrenSoto   \n",
       "24       Democrat  RepDarrenSoto   \n",
       "25       Democrat  RepDarrenSoto   \n",
       "26       Democrat  RepDarrenSoto   \n",
       "27       Democrat  RepDarrenSoto   \n",
       "28       Democrat  RepDarrenSoto   \n",
       "29       Democrat  RepDarrenSoto   \n",
       "...           ...            ...   \n",
       "86430  Republican    RepTomPrice   \n",
       "86431  Republican    RepTomPrice   \n",
       "86432  Republican    RepTomPrice   \n",
       "86433  Republican    RepTomPrice   \n",
       "86434  Republican    RepTomPrice   \n",
       "86435  Republican    RepTomPrice   \n",
       "86436  Republican    RepTomPrice   \n",
       "86437  Republican    RepTomPrice   \n",
       "86438  Republican    RepTomPrice   \n",
       "86439  Republican    RepTomPrice   \n",
       "86440  Republican    RepTomPrice   \n",
       "86441  Republican    RepTomPrice   \n",
       "86442  Republican    RepTomPrice   \n",
       "86443  Republican    RepTomPrice   \n",
       "86444  Republican    RepTomPrice   \n",
       "86445  Republican    RepTomPrice   \n",
       "86446  Republican    RepTomPrice   \n",
       "86447  Republican    RepTomPrice   \n",
       "86448  Republican    RepTomPrice   \n",
       "86449  Republican    RepTomPrice   \n",
       "86450  Republican    RepTomPrice   \n",
       "86451  Republican    RepTomPrice   \n",
       "86452  Republican    RepTomPrice   \n",
       "86453  Republican    RepTomPrice   \n",
       "86454  Republican    RepTomPrice   \n",
       "86455  Republican    RepTomPrice   \n",
       "86456  Republican    RepTomPrice   \n",
       "86457  Republican    RepTomPrice   \n",
       "86458  Republican    RepTomPrice   \n",
       "86459  Republican    RepTomPrice   \n",
       "\n",
       "                                                   Tweet  \n",
       "0      Today, Senate Dems vote to #SaveTheInternet. P...  \n",
       "1      RT @WinterHavenSun: Winter Haven resident / Al...  \n",
       "2      RT @NBCLatino: .@RepDarrenSoto noted that Hurr...  \n",
       "3      RT @NALCABPolicy: Meeting with @RepDarrenSoto ...  \n",
       "4      RT @Vegalteno: Hurricane season starts on June...  \n",
       "5      RT @EmgageActionFL: Thank you to all who came ...  \n",
       "6      Hurricane Maria left approx $90 billion in dam...  \n",
       "7      RT @Tharryry: I am delighted that @RepDarrenSo...  \n",
       "8      RT @HispanicCaucus: Trump's anti-immigrant pol...  \n",
       "9      RT @RepStephMurphy: Great joining @WeAreUnidos...  \n",
       "10     RT @AllSaints_FL: Zhihan (John)'s art received...  \n",
       "11     .@realDonaldTrump official policy to separate ...  \n",
       "12     Thank you to my mom Jean and all the mothers a...  \n",
       "13     We paid our respects at Nat’l Law Enforcement ...  \n",
       "14     RT @WinterHavenSun: Congratulations to  @AHSbl...  \n",
       "15     Meet 12 incredible young leaders appointed to ...  \n",
       "16     RT @wildlifeaction: With 1/3 of US wildlife in...  \n",
       "17     RT @CHeathWFTV: Keeping guns out of the wrong ...  \n",
       "18     RT @GermieNYC: TY, @RepDarrenSoto for calling ...  \n",
       "19     Behind every successful student, there's a pro...  \n",
       "20     RT @HeardontheHill: .@RepDarrenSoto recalled p...  \n",
       "21     RT @NathanHale7476: Got to meet @RepDarrenSoto...  \n",
       "22     RT @WinterHavenSun: Lead story in the Polk New...  \n",
       "23     #FACT: 24 percent of Americans said they didn’...  \n",
       "24     Americans deserve #ABetterDeal on the cost of ...  \n",
       "25     Thank u @BillNye for being a voice for #Scienc...  \n",
       "26     RT @RepRubenGallego: Public comment is a respo...  \n",
       "27     Sat down with @rollcall to discuss fellowship,...  \n",
       "28     RT @rvivian370: At the Pulse Memorial this mor...  \n",
       "29     Joined colleagues in opposition to Trump admin...  \n",
       "...                                                  ...  \n",
       "86430  As 20 yrs ago, House GOP is leading the way to...  \n",
       "86431  At heart of healthcare is the doc-patient rela...  \n",
       "86432  It’s official: Obama paid ransom money to Iran...  \n",
       "86433  Joined @NewsRadio1067 y'day about Aetna leavin...  \n",
       "86434  The #BetterWay to protect folks w/ pre-existin...  \n",
       "86435  Proud of @universityofga in #Rio2016! #GoDawgs...  \n",
       "86436  RT @SpeakerRyan: Here's the deal: There is a #...  \n",
       "86437  Making h'care more affordable means understand...  \n",
       "86438  Visited Plant #Vogtle last week. Units 3 &amp;...  \n",
       "86439  VIDEO: House GOP has #patientcentered solution...  \n",
       "86440  Another failure by #Obamacare. Aetna abandonin...  \n",
       "86441  GA Congressional Republicans Call on #Obama to...  \n",
       "86442  We need answers now. We must investigate Clint...  \n",
       "86443  RT @childrensatl: Thank you to the Georgia Con...  \n",
       "86444  Thank you to @GATransport for meeting with me ...  \n",
       "86445  No more regulations that hurt our #economy! We...  \n",
       "86446  Thanks for letting me visit &amp; tour @eatonc...  \n",
       "86447  Congratulations to Maj. Gen. John Stokes as he...  \n",
       "86448  Happy first day of school @DekalbSchools! Wish...  \n",
       "86449  Happy first day of school @FultonCoSchools! Wi...  \n",
       "86450  Good luck &amp; congrats #TeamUSA especially #...  \n",
       "86451  Hard to believe it's been 20 years since #Atla...  \n",
       "86452  Dems are all talk on #Zika. Here's the real st...  \n",
       "86453  Our hearts go out to families friends &amp; cl...  \n",
       "86454  Obama's foreign policy: embolden enemies, alie...  \n",
       "86455  Check out my op-ed on need for End Executive O...  \n",
       "86456  Yesterday, Betty &amp; I had a great time lear...  \n",
       "86457  We are forever grateful for the service and sa...  \n",
       "86458  Happy first day of school @CobbSchools! #CobbB...  \n",
       "86459  #Zika fears realized in Florida. House GOP act...  \n",
       "\n",
       "[86460 rows x 3 columns]>"
      ]
     },
     "execution_count": 61,
     "metadata": {},
     "output_type": "execute_result"
    }
   ],
   "source": [
    "# 1. Load the 20-newsgroups.csv data into a dataframe.\n",
    "# 2. Print the shape\n",
    "df = pd.read_csv('data/dem-vs-rep-tweets.csv')\n",
    "print(df.shape)\n",
    "df.head"
   ]
  },
  {
   "cell_type": "code",
   "execution_count": 64,
   "metadata": {},
   "outputs": [
    {
     "name": "stdout",
     "output_type": "stream",
     "text": [
      "Party     0\n",
      "Handle    0\n",
      "Tweet     0\n",
      "dtype: int64\n",
      "57\n"
     ]
    },
    {
     "data": {
      "text/plain": [
       "(86403, 3)"
      ]
     },
     "execution_count": 64,
     "metadata": {},
     "output_type": "execute_result"
    }
   ],
   "source": [
    "print(df.isnull().sum())\n",
    "print(df.duplicated().sum())\n",
    "df=df.drop_duplicates()\n",
    "df.shape"
   ]
  },
  {
   "cell_type": "code",
   "execution_count": 70,
   "metadata": {},
   "outputs": [
    {
     "data": {
      "text/plain": [
       "Republican    44362\n",
       "Democrat      42041\n",
       "Name: Party, dtype: int64"
      ]
     },
     "execution_count": 70,
     "metadata": {},
     "output_type": "execute_result"
    }
   ],
   "source": [
    "df.Party.value_counts()"
   ]
  },
  {
   "cell_type": "code",
   "execution_count": 72,
   "metadata": {},
   "outputs": [
    {
     "name": "stdout",
     "output_type": "stream",
     "text": [
      "ORIGINAL TEXT: Today, Senate Dems vote to #SaveTheInternet. Proud to support similar #NetNeutrality legislation here in the House… https://t.co/n3tggDLU1L\n",
      "CLEANDED TEXT: today senate dems vote savetheinternet proud support similar netneutrality legislation house httpstcon3tggdlu1l\n"
     ]
    },
    {
     "name": "stderr",
     "output_type": "stream",
     "text": [
      "/Applications/Anaconda/anaconda3/lib/python3.7/site-packages/ipykernel_launcher.py:4: SettingWithCopyWarning: \n",
      "A value is trying to be set on a copy of a slice from a DataFrame.\n",
      "Try using .loc[row_indexer,col_indexer] = value instead\n",
      "\n",
      "See the caveats in the documentation: http://pandas.pydata.org/pandas-docs/stable/indexing.html#indexing-view-versus-copy\n",
      "  after removing the cwd from sys.path.\n"
     ]
    }
   ],
   "source": [
    "# already have a defined make_lower, rem_punct, rem_stopwords, text_pipeline\n",
    "\n",
    "# building a text processing pipeline\n",
    "df['cleanTweet'] = df['Tweet'].apply(text_pipeline)\n",
    "\n",
    "print(\"ORIGINAL TEXT:\", df['Tweet'][0])\n",
    "print(\"CLEANDED TEXT:\", df['cleanTweet'][0])"
   ]
  },
  {
   "cell_type": "code",
   "execution_count": 73,
   "metadata": {},
   "outputs": [
    {
     "data": {
      "text/plain": [
       "<bound method NDFrame.head of             Party         Handle  \\\n",
       "0        Democrat  RepDarrenSoto   \n",
       "1        Democrat  RepDarrenSoto   \n",
       "2        Democrat  RepDarrenSoto   \n",
       "3        Democrat  RepDarrenSoto   \n",
       "4        Democrat  RepDarrenSoto   \n",
       "5        Democrat  RepDarrenSoto   \n",
       "6        Democrat  RepDarrenSoto   \n",
       "7        Democrat  RepDarrenSoto   \n",
       "8        Democrat  RepDarrenSoto   \n",
       "9        Democrat  RepDarrenSoto   \n",
       "10       Democrat  RepDarrenSoto   \n",
       "11       Democrat  RepDarrenSoto   \n",
       "12       Democrat  RepDarrenSoto   \n",
       "13       Democrat  RepDarrenSoto   \n",
       "14       Democrat  RepDarrenSoto   \n",
       "15       Democrat  RepDarrenSoto   \n",
       "16       Democrat  RepDarrenSoto   \n",
       "17       Democrat  RepDarrenSoto   \n",
       "18       Democrat  RepDarrenSoto   \n",
       "19       Democrat  RepDarrenSoto   \n",
       "20       Democrat  RepDarrenSoto   \n",
       "21       Democrat  RepDarrenSoto   \n",
       "22       Democrat  RepDarrenSoto   \n",
       "23       Democrat  RepDarrenSoto   \n",
       "24       Democrat  RepDarrenSoto   \n",
       "25       Democrat  RepDarrenSoto   \n",
       "26       Democrat  RepDarrenSoto   \n",
       "27       Democrat  RepDarrenSoto   \n",
       "28       Democrat  RepDarrenSoto   \n",
       "29       Democrat  RepDarrenSoto   \n",
       "...           ...            ...   \n",
       "86430  Republican    RepTomPrice   \n",
       "86431  Republican    RepTomPrice   \n",
       "86432  Republican    RepTomPrice   \n",
       "86433  Republican    RepTomPrice   \n",
       "86434  Republican    RepTomPrice   \n",
       "86435  Republican    RepTomPrice   \n",
       "86436  Republican    RepTomPrice   \n",
       "86437  Republican    RepTomPrice   \n",
       "86438  Republican    RepTomPrice   \n",
       "86439  Republican    RepTomPrice   \n",
       "86440  Republican    RepTomPrice   \n",
       "86441  Republican    RepTomPrice   \n",
       "86442  Republican    RepTomPrice   \n",
       "86443  Republican    RepTomPrice   \n",
       "86444  Republican    RepTomPrice   \n",
       "86445  Republican    RepTomPrice   \n",
       "86446  Republican    RepTomPrice   \n",
       "86447  Republican    RepTomPrice   \n",
       "86448  Republican    RepTomPrice   \n",
       "86449  Republican    RepTomPrice   \n",
       "86450  Republican    RepTomPrice   \n",
       "86451  Republican    RepTomPrice   \n",
       "86452  Republican    RepTomPrice   \n",
       "86453  Republican    RepTomPrice   \n",
       "86454  Republican    RepTomPrice   \n",
       "86455  Republican    RepTomPrice   \n",
       "86456  Republican    RepTomPrice   \n",
       "86457  Republican    RepTomPrice   \n",
       "86458  Republican    RepTomPrice   \n",
       "86459  Republican    RepTomPrice   \n",
       "\n",
       "                                                   Tweet  \\\n",
       "0      Today, Senate Dems vote to #SaveTheInternet. P...   \n",
       "1      RT @WinterHavenSun: Winter Haven resident / Al...   \n",
       "2      RT @NBCLatino: .@RepDarrenSoto noted that Hurr...   \n",
       "3      RT @NALCABPolicy: Meeting with @RepDarrenSoto ...   \n",
       "4      RT @Vegalteno: Hurricane season starts on June...   \n",
       "5      RT @EmgageActionFL: Thank you to all who came ...   \n",
       "6      Hurricane Maria left approx $90 billion in dam...   \n",
       "7      RT @Tharryry: I am delighted that @RepDarrenSo...   \n",
       "8      RT @HispanicCaucus: Trump's anti-immigrant pol...   \n",
       "9      RT @RepStephMurphy: Great joining @WeAreUnidos...   \n",
       "10     RT @AllSaints_FL: Zhihan (John)'s art received...   \n",
       "11     .@realDonaldTrump official policy to separate ...   \n",
       "12     Thank you to my mom Jean and all the mothers a...   \n",
       "13     We paid our respects at Nat’l Law Enforcement ...   \n",
       "14     RT @WinterHavenSun: Congratulations to  @AHSbl...   \n",
       "15     Meet 12 incredible young leaders appointed to ...   \n",
       "16     RT @wildlifeaction: With 1/3 of US wildlife in...   \n",
       "17     RT @CHeathWFTV: Keeping guns out of the wrong ...   \n",
       "18     RT @GermieNYC: TY, @RepDarrenSoto for calling ...   \n",
       "19     Behind every successful student, there's a pro...   \n",
       "20     RT @HeardontheHill: .@RepDarrenSoto recalled p...   \n",
       "21     RT @NathanHale7476: Got to meet @RepDarrenSoto...   \n",
       "22     RT @WinterHavenSun: Lead story in the Polk New...   \n",
       "23     #FACT: 24 percent of Americans said they didn’...   \n",
       "24     Americans deserve #ABetterDeal on the cost of ...   \n",
       "25     Thank u @BillNye for being a voice for #Scienc...   \n",
       "26     RT @RepRubenGallego: Public comment is a respo...   \n",
       "27     Sat down with @rollcall to discuss fellowship,...   \n",
       "28     RT @rvivian370: At the Pulse Memorial this mor...   \n",
       "29     Joined colleagues in opposition to Trump admin...   \n",
       "...                                                  ...   \n",
       "86430  As 20 yrs ago, House GOP is leading the way to...   \n",
       "86431  At heart of healthcare is the doc-patient rela...   \n",
       "86432  It’s official: Obama paid ransom money to Iran...   \n",
       "86433  Joined @NewsRadio1067 y'day about Aetna leavin...   \n",
       "86434  The #BetterWay to protect folks w/ pre-existin...   \n",
       "86435  Proud of @universityofga in #Rio2016! #GoDawgs...   \n",
       "86436  RT @SpeakerRyan: Here's the deal: There is a #...   \n",
       "86437  Making h'care more affordable means understand...   \n",
       "86438  Visited Plant #Vogtle last week. Units 3 &amp;...   \n",
       "86439  VIDEO: House GOP has #patientcentered solution...   \n",
       "86440  Another failure by #Obamacare. Aetna abandonin...   \n",
       "86441  GA Congressional Republicans Call on #Obama to...   \n",
       "86442  We need answers now. We must investigate Clint...   \n",
       "86443  RT @childrensatl: Thank you to the Georgia Con...   \n",
       "86444  Thank you to @GATransport for meeting with me ...   \n",
       "86445  No more regulations that hurt our #economy! We...   \n",
       "86446  Thanks for letting me visit &amp; tour @eatonc...   \n",
       "86447  Congratulations to Maj. Gen. John Stokes as he...   \n",
       "86448  Happy first day of school @DekalbSchools! Wish...   \n",
       "86449  Happy first day of school @FultonCoSchools! Wi...   \n",
       "86450  Good luck &amp; congrats #TeamUSA especially #...   \n",
       "86451  Hard to believe it's been 20 years since #Atla...   \n",
       "86452  Dems are all talk on #Zika. Here's the real st...   \n",
       "86453  Our hearts go out to families friends &amp; cl...   \n",
       "86454  Obama's foreign policy: embolden enemies, alie...   \n",
       "86455  Check out my op-ed on need for End Executive O...   \n",
       "86456  Yesterday, Betty &amp; I had a great time lear...   \n",
       "86457  We are forever grateful for the service and sa...   \n",
       "86458  Happy first day of school @CobbSchools! #CobbB...   \n",
       "86459  #Zika fears realized in Florida. House GOP act...   \n",
       "\n",
       "                                              cleanTweet  \n",
       "0      today senate dems vote savetheinternet proud s...  \n",
       "1      rt winterhavensun winter resident alta vista t...  \n",
       "2      rt nbclatino repdarrensoto noted hurricane mar...  \n",
       "3      rt nalcabpolicy meeting repdarrensoto thanks t...  \n",
       "4      rt vegalteno hurricane season starts june 1st ...  \n",
       "5      rt emgageactionfl thank came orlando gala succ...  \n",
       "6      hurricane maria left approx 90 billion damages...  \n",
       "7      rt tharryry delighted repdarrensoto voting cra...  \n",
       "8      rt hispaniccaucus trumps antiimmigrant policie...  \n",
       "9      rt repstephmurphy great joining weareunidosus ...  \n",
       "10     rt allsaints_fl zhihan johns art received awar...  \n",
       "11     realdonaldtrump official policy separate immig...  \n",
       "12     thank mom jean mothers across nation raising f...  \n",
       "13     paid respects natl law enforcement officers me...  \n",
       "14     rt winterhavensun congratulations ahsbloodhoun...  \n",
       "15     meet 12 incredible young leaders appointed us ...  \n",
       "16     rt wildlifeaction 13 us wildlife decline flori...  \n",
       "17     rt cheathwftv keeping guns wrong hands followi...  \n",
       "18     rt germienyc ty repdarrensoto calling hfanow e...  \n",
       "19     behind every successful student theres proud c...  \n",
       "20     rt heardonthehill repdarrensoto recalled playi...  \n",
       "21     rt nathanhale7476 got meet repdarrensoto today...  \n",
       "22     rt winterhavensun lead story polk news sun rep...  \n",
       "23     fact 24 percent americans said didnt fill pres...  \n",
       "24     americans deserve abetterdeal cost prescriptio...  \n",
       "25     thank u billnye voice science amp planet sayfi...  \n",
       "26     rt reprubengallego public comment responsibili...  \n",
       "27     sat rollcall discuss fellowship getting things...  \n",
       "28     rt rvivian370 pulse memorial morning represent...  \n",
       "29     joined colleagues opposition trump admin addin...  \n",
       "...                                                  ...  \n",
       "86430  20 yrs ago house gop leading way today welfare...  \n",
       "86431  heart healthcare docpatient relationship threa...  \n",
       "86432  official obama paid ransom money irana state s...  \n",
       "86433  joined newsradio1067 yday aetna leaving ga exc...  \n",
       "86434  betterway protect folks w preexisting conditio...  \n",
       "86435  proud universityofga rio2016 godawgs georgians...  \n",
       "86436  rt speakerryan heres deal betterway fix health...  \n",
       "86437  making hcare affordable means understanding wh...  \n",
       "86438  visited plant vogtle last week units 3 amp 4 1...  \n",
       "86439  video house gop patientcentered solutions get ...  \n",
       "86440  another failure obamacare aetna abandoning 11 ...  \n",
       "86441  ga congressional republicans call obama put as...  \n",
       "86442  need answers must investigate clintons alleged...  \n",
       "86443  rt childrensatl thank georgia congressional me...  \n",
       "86444  thank gatransport meeting today discuss ongoin...  \n",
       "86445  regulations hurt economy must end obamas abuse...  \n",
       "86446  thanks letting visit amp tour eatoncorp alphar...  \n",
       "86447  congratulations maj gen john stokes assumes co...  \n",
       "86448  happy first day school dekalbschools wishing g...  \n",
       "86449  happy first day school fultoncoschools wishing...  \n",
       "86450  good luck amp congrats teamusa especially geor...  \n",
       "86451  hard believe 20 years since atlanta hosted 199...  \n",
       "86452  dems talk zika heres real story theyre politic...  \n",
       "86453  hearts go families friends amp classmates nata...  \n",
       "86454  obamas foreign policy embolden enemies alienat...  \n",
       "86455  check oped need end executive overreach act wh...  \n",
       "86456  yesterday betty amp great time learning forest...  \n",
       "86457  forever grateful service sacrifice major barne...  \n",
       "86458  happy first day school cobbschools cobbbacktos...  \n",
       "86459  zika fears realized florida house gop acted pr...  \n",
       "\n",
       "[86403 rows x 4 columns]>"
      ]
     },
     "execution_count": 73,
     "metadata": {},
     "output_type": "execute_result"
    }
   ],
   "source": [
    "df.head"
   ]
  },
  {
   "cell_type": "code",
   "execution_count": 74,
   "metadata": {},
   "outputs": [
    {
     "name": "stdout",
     "output_type": "stream",
     "text": [
      "['today senate dems vote savetheinternet proud support similar netneutrality legislation house httpstcon3tggdlu1l'\n",
      " 'rt winterhavensun winter resident alta vista teacher one several recognized repdarrensoto national teacher apprecia'\n",
      " 'rt nbclatino repdarrensoto noted hurricane maria left approximately 90 billion damages congress allocated 18'\n",
      " ... 'forever grateful service sacrifice major barney httpstcoeel3nxkrst'\n",
      " 'happy first day school cobbschools cobbbacktoschool'\n",
      " 'zika fears realized florida house gop acted prevent crisis dems inaction inexcusable time put politics aside amp work together']\n",
      "['Democrat' 'Democrat' 'Democrat' ... 'Republican' 'Republican'\n",
      " 'Republican']\n"
     ]
    }
   ],
   "source": [
    "# define X and y data\n",
    "X = df['cleanTweet'].values\n",
    "y = df['Party'].values\n",
    "\n",
    "print(X)\n",
    "print(y)"
   ]
  },
  {
   "cell_type": "code",
   "execution_count": 75,
   "metadata": {},
   "outputs": [
    {
     "data": {
      "text/plain": [
       "(86403, 132962)"
      ]
     },
     "execution_count": 75,
     "metadata": {},
     "output_type": "execute_result"
    }
   ],
   "source": [
    "# initialized TfidVectorizer already\n",
    "# make vocab matrix; fit vectorizer with X data\n",
    "vectorizer.fit(X)\n",
    "\n",
    "# transform documents into vectors; transform X data using fitted vectorizer.\n",
    "X = vectorizer.transform(X)\n",
    "\n",
    "X.shape"
   ]
  },
  {
   "cell_type": "code",
   "execution_count": 77,
   "metadata": {},
   "outputs": [
    {
     "name": "stdout",
     "output_type": "stream",
     "text": [
      "  (0, 14234)\t0.2107748060975325\n",
      "  (0, 22974)\t0.24618822067653048\n",
      "  (0, 25348)\t0.23502329131762936\n",
      "  (0, 25740)\t0.20610056191842946\n",
      "  (0, 27013)\t0.2618996869029736\n",
      "  (0, 28135)\t0.23463839177280565\n",
      "  (0, 84385)\t0.4051308672650538\n",
      "  (0, 96816)\t0.300307766954805\n",
      "  (0, 101857)\t0.21214878349426097\n",
      "  (0, 101914)\t0.20366509072722197\n",
      "  (0, 110535)\t0.3670037988961617\n",
      "  (0, 115832)\t0.28076572682649514\n",
      "  (0, 121280)\t0.30784093704313137\n",
      "  (0, 126030)\t0.15657508367760173\n",
      "  (1, 10379)\t0.35139397645455167\n",
      "  (1, 17394)\t0.2847080690498326\n",
      "  (1, 21237)\t0.2319137542534149\n",
      "  (1, 24302)\t0.4096594942275418\n",
      "  (1, 25552)\t0.24716391186212414\n",
      "  (1, 58220)\t0.4522179516368572\n",
      "  (1, 98522)\t0.20781718899643714\n",
      "  (1, 100536)\t0.1824203352688052\n",
      "  (1, 104016)\t0.21370657630374143\n",
      "  (1, 107527)\t0.17279680929802155\n",
      "  (1, 107909)\t0.22870207469999862\n",
      "  :\t:\n",
      "  (69119, 40565)\t0.5124319281132586\n",
      "  (69119, 96907)\t0.4375994682300869\n",
      "  (69119, 102636)\t0.22430170077674216\n",
      "  (69119, 115922)\t0.2628681275373837\n",
      "  (69119, 116074)\t0.4184905322810527\n",
      "  (69120, 21492)\t0.5394502330403169\n",
      "  (69120, 21497)\t0.2785820324525673\n",
      "  (69120, 21544)\t0.3188278084147026\n",
      "  (69120, 78219)\t0.42764384509033\n",
      "  (69120, 97462)\t0.2512091150713156\n",
      "  (69120, 106103)\t0.22486529019112836\n",
      "  (69120, 109760)\t0.40225158758024787\n",
      "  (69120, 111145)\t0.21066790779845304\n",
      "  (69120, 131916)\t0.16430867990011555\n",
      "  (69121, 10198)\t0.498299851628503\n",
      "  (69121, 11099)\t0.2624770568165718\n",
      "  (69121, 28151)\t0.3488863364095121\n",
      "  (69121, 102636)\t0.2259643139193261\n",
      "  (69121, 107435)\t0.3378286135199247\n",
      "  (69121, 107485)\t0.36656621202033973\n",
      "  (69121, 112303)\t0.26444279686215777\n",
      "  (69121, 118274)\t0.11131428488302182\n",
      "  (69121, 120105)\t0.24948898051201937\n",
      "  (69121, 126363)\t0.2501845596491001\n",
      "  (69121, 129961)\t0.23316221304247362   (0, 7001)\t0.37825521780447596\n",
      "  (0, 14195)\t0.2402470983701264\n",
      "  (0, 28786)\t0.33841817186655926\n",
      "  (0, 50649)\t0.45392040608080697\n",
      "  (0, 95870)\t0.17555208284107668\n",
      "  (0, 99888)\t0.26347175109511434\n",
      "  (0, 108358)\t0.23136329337697692\n",
      "  (0, 113232)\t0.18173562406219484\n",
      "  (0, 114251)\t0.29190290039255395\n",
      "  (0, 115062)\t0.26405648714914887\n",
      "  (0, 124370)\t0.3018044631166568\n",
      "  (0, 129814)\t0.21406063209194826\n",
      "  (1, 3982)\t0.19070565708131343\n",
      "  (1, 11176)\t0.2403554248338609\n",
      "  (1, 26506)\t0.14312887958900256\n",
      "  (1, 28692)\t0.31027494412392237\n",
      "  (1, 29290)\t0.2210325856504292\n",
      "  (1, 83556)\t0.4208937452494634\n",
      "  (1, 100093)\t0.3344375119609051\n",
      "  (1, 110139)\t0.3437335533165352\n",
      "  (1, 116178)\t0.3416727038635132\n",
      "  (1, 118274)\t0.09075695164481026\n",
      "  (1, 121276)\t0.3344375119609051\n",
      "  (1, 131633)\t0.31027494412392237\n",
      "  (2, 14372)\t0.16931328046914723\n",
      "  :\t:\n",
      "  (17279, 5766)\t0.4258237817497426\n",
      "  (17279, 8211)\t0.2918290049248715\n",
      "  (17279, 19330)\t0.2145877258461405\n",
      "  (17279, 22730)\t0.1847406615951498\n",
      "  (17279, 100676)\t0.19723441112340162\n",
      "  (17279, 101071)\t0.23792743745430728\n",
      "  (17279, 104118)\t0.1916092268191965\n",
      "  (17279, 113248)\t0.25043382366990535\n",
      "  (17279, 114260)\t0.227938930706508\n",
      "  (17279, 116188)\t0.29945273481988305\n",
      "  (17279, 118274)\t0.09512398929429108\n",
      "  (17279, 118342)\t0.24575398257092163\n",
      "  (17279, 120054)\t0.38875829873497825\n",
      "  (17280, 21130)\t0.4597130549050258\n",
      "  (17280, 65910)\t0.43195308534883464\n",
      "  (17280, 96336)\t0.277490626251336\n",
      "  (17280, 101386)\t0.19166843468622555\n",
      "  (17280, 101916)\t0.2766464278089218\n",
      "  (17280, 102667)\t0.2231888323382476\n",
      "  (17280, 109347)\t0.2712217434967545\n",
      "  (17280, 113232)\t0.17294059152186733\n",
      "  (17280, 113357)\t0.29192888568685865\n",
      "  (17280, 113556)\t0.3067224326032189\n",
      "  (17280, 124009)\t0.22338617908192737\n",
      "  (17280, 127204)\t0.1712422538059879\n",
      "['Democrat' 'Republican' 'Republican' ... 'Republican' 'Democrat'\n",
      " 'Democrat'] ['Republican' 'Republican' 'Democrat' ... 'Democrat' 'Democrat'\n",
      " 'Republican']\n"
     ]
    }
   ],
   "source": [
    "# split data into training and testing \n",
    "X_train, X_test, y_train, y_test = train_test_split(X,y, test_size=.2, random_state=42)\n",
    "\n",
    "# print(X_train, X_test)\n",
    "# print(y_train, y_test)"
   ]
  },
  {
   "cell_type": "code",
   "execution_count": 78,
   "metadata": {},
   "outputs": [
    {
     "data": {
      "text/plain": [
       "array(['Democrat', 'Democrat', 'Democrat', ..., 'Democrat', 'Democrat',\n",
       "       'Republican'], dtype='<U10')"
      ]
     },
     "execution_count": 78,
     "metadata": {},
     "output_type": "execute_result"
    }
   ],
   "source": [
    "# initialized MultinomialNB\n",
    "# fit model with training data\n",
    "model.fit(X_train, y_train)\n",
    "\n",
    "# new prediction for testing data\n",
    "y_pred = model.predict(X_test)\n",
    "y_pred"
   ]
  },
  {
   "cell_type": "code",
   "execution_count": 79,
   "metadata": {},
   "outputs": [
    {
     "name": "stdout",
     "output_type": "stream",
     "text": [
      "Model Accuracy: 0.810023\n"
     ]
    }
   ],
   "source": [
    "# evaluate model\n",
    "accuracy = model.score(X_test, y_test)\n",
    "\n",
    "# print evaluation metrics\n",
    "print(\"Model Accuracy: %f\" % accuracy)"
   ]
  },
  {
   "cell_type": "code",
   "execution_count": 80,
   "metadata": {},
   "outputs": [
    {
     "data": {
      "text/plain": [
       "<sklearn.metrics._plot.confusion_matrix.ConfusionMatrixDisplay at 0x7ff804aa3a20>"
      ]
     },
     "execution_count": 80,
     "metadata": {},
     "output_type": "execute_result"
    },
    {
     "data": {
      "image/png": "[encoded data removed]",
      "text/plain": [
       "<Figure size 1512x1512 with 2 Axes>"
      ]
     },
     "metadata": {
      "needs_background": "light"
     },
     "output_type": "display_data"
    }
   ],
   "source": [
    "# plot confusion matrix of our predictions\n",
    "fig, ax = plt.subplots(figsize=(21,21))\n",
    "disp = plot_confusion_matrix(model, X_test, y_test,\n",
    "                            display_labels = model.classes_,\n",
    "                            cmap = plt.cm.Blues,\n",
    "                            ax = ax\n",
    "                            )\n",
    "# plt.xticks(rotation=90)\n",
    "disp"
   ]
  },
  {
   "cell_type": "code",
   "execution_count": 81,
   "metadata": {},
   "outputs": [
    {
     "name": "stdout",
     "output_type": "stream",
     "text": [
      "              precision    recall  f1-score   support\n",
      "\n",
      "    Democrat       0.83      0.77      0.80      8407\n",
      "  Republican       0.80      0.85      0.82      8874\n",
      "\n",
      "    accuracy                           0.81     17281\n",
      "   macro avg       0.81      0.81      0.81     17281\n",
      "weighted avg       0.81      0.81      0.81     17281\n",
      "\n"
     ]
    }
   ],
   "source": [
    "# using classification_report, print eval results for all classes\n",
    "print(classification_report(y_test, y_pred, target_names=model.classes_))"
   ]
  },
  {
   "cell_type": "code",
   "execution_count": null,
   "metadata": {},
   "outputs": [],
   "source": []
  }
 ],
 "metadata": {
  "kernelspec": {
   "display_name": "Python 3",
   "language": "python",
   "name": "python3"
  },
  "language_info": {
   "codemirror_mode": {
    "name": "ipython",
    "version": 3
   },
   "file_extension": ".py",
   "mimetype": "text/x-python",
   "name": "python",
   "nbconvert_exporter": "python",
   "pygments_lexer": "ipython3",
   "version": "3.7.2"
  }
 },
 "nbformat": 4,
 "nbformat_minor": 2
}
